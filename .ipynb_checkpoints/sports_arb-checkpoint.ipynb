{
 "cells": [
  {
   "cell_type": "markdown",
   "id": "fc778082",
   "metadata": {},
   "source": [
    "# Web Scraping Basics\n",
    "\n",
    "Selenium webscraping how to: https://medium.com/swlh/web-scraping-basics-scraping-a-betting-site-in-10-minutes-8e0529509848\n",
    "\n",
    "Chromedriver moved from download to Algo_Trader folder for convenience"
   ]
  },
  {
   "cell_type": "code",
   "execution_count": 1,
   "id": "a45b1ed6",
   "metadata": {},
   "outputs": [],
   "source": [
    "from selenium import webdriver\n",
    "import time"
   ]
  },
  {
   "cell_type": "code",
   "execution_count": 10,
   "id": "29a2825f",
   "metadata": {},
   "outputs": [],
   "source": [
    "web = 'https://sports.tipico.de/en/all/football/spain/la-liga' #you can choose any other league\n",
    "#web = 'https://www.betonline.ag/sportsbook/basketball/nba'\n",
    "path = '/Users/Shyamal/Downloads/chromedriver' #introduce your file's path inside '...'"
   ]
  },
  {
   "cell_type": "code",
   "execution_count": 11,
   "id": "c27e2b29",
   "metadata": {},
   "outputs": [],
   "source": [
    "driver = webdriver.Chrome(path)\n",
    "driver.get(web)"
   ]
  },
  {
   "cell_type": "code",
   "execution_count": 13,
   "id": "725108fe",
   "metadata": {},
   "outputs": [],
   "source": [
    "# Make ChromeDriver Click a Button\n",
    "# Need Selenium to click the popup accept button every time the website is opened\n",
    "\n",
    "time.sleep(5) # add implicit wait, if necessary\n",
    "accept = driver.find_element_by_xpath('//*[@id=\"_evidon-accept-button\"]')\n",
    "accept.click()"
   ]
  },
  {
   "cell_type": "markdown",
   "id": "9d1dda1e",
   "metadata": {},
   "source": [
    "# Build Web Scraper"
   ]
  },
  {
   "cell_type": "code",
   "execution_count": 15,
   "id": "6a212c6e",
   "metadata": {},
   "outputs": [],
   "source": [
    "# Initialize storage\n",
    "teams = []\n",
    "x12 = [] #3-way\n",
    "odds_events = []"
   ]
  },
  {
   "cell_type": "code",
   "execution_count": 16,
   "id": "3dfde4c0",
   "metadata": {},
   "outputs": [],
   "source": [
    "# Select only upcoming matches\n",
    "box = driver.find_element_by_xpath('//div[contains(@testid, \"Program_SELECTION\")]')"
   ]
  },
  {
   "cell_type": "code",
   "execution_count": 19,
   "id": "7d93ed37",
   "metadata": {},
   "outputs": [],
   "source": [
    "# Look for 'sports titles'\n",
    "sport_title = box.find_elements_by_class_name('SportTitle-styles-sport')"
   ]
  },
  {
   "cell_type": "code",
   "execution_count": 25,
   "id": "b7a2c32b",
   "metadata": {},
   "outputs": [],
   "source": [
    "# Selecting only \"football\"\n",
    "\n",
    "for sport in sport_title:\n",
    "    # selecting only football\n",
    "    if sport.text == 'Football':\n",
    "        parent = sport.find_element_by_xpath('./..')\n",
    "        grandparent = parent.find_element_by_xpath('./..')"
   ]
  },
  {
   "cell_type": "code",
   "execution_count": 26,
   "id": "6660a334",
   "metadata": {},
   "outputs": [],
   "source": [
    "# Looking for single row events\n",
    "# Single row event\n",
    "single_row_events = grandparent.find_elements_by_class_name('EventRow-styles-event-row')"
   ]
  },
  {
   "cell_type": "code",
   "execution_count": 27,
   "id": "f6eb2028",
   "metadata": {},
   "outputs": [],
   "source": [
    "# Getting data: Team names and 'odd_events'\n",
    "for match in single_row_events:\n",
    "    odds_event = match.find_elements_by_class_name('EventOddGroup-styles-odd-groups')\n",
    "    odds_events.append(odds_event)\n",
    "    # teams\n",
    "    for team in match.find_elements_by_class_name('EventTeams-styles-titles'):\n",
    "        teams.append(team.text)"
   ]
  },
  {
   "cell_type": "code",
   "execution_count": 32,
   "id": "60823b33",
   "metadata": {},
   "outputs": [],
   "source": [
    "# Getting data: The Odds\n",
    "for odds_event in odds_events:\n",
    "    for n, box in enumerate(odds_event):\n",
    "        rows = box.find_elements_by_xpath('.//*')\n",
    "        if n == 0:\n",
    "            x12.append(rows[0].text)\n",
    "driver.quit()"
   ]
  },
  {
   "cell_type": "markdown",
   "id": "e79a0f13",
   "metadata": {},
   "source": [
    "# Read to automate scripting\n",
    "https://medium.datadriveninvestor.com/automate-your-python-scripts-in-3-steps-mac-and-windows-3c6fb0fb5bc2"
   ]
  },
  {
   "cell_type": "code",
   "execution_count": null,
   "id": "a017192a",
   "metadata": {},
   "outputs": [],
   "source": []
  }
 ],
 "metadata": {
  "kernelspec": {
   "display_name": "Python 3 (ipykernel)",
   "language": "python",
   "name": "python3"
  },
  "language_info": {
   "codemirror_mode": {
    "name": "ipython",
    "version": 3
   },
   "file_extension": ".py",
   "mimetype": "text/x-python",
   "name": "python",
   "nbconvert_exporter": "python",
   "pygments_lexer": "ipython3",
   "version": "3.9.7"
  }
 },
 "nbformat": 4,
 "nbformat_minor": 5
}
